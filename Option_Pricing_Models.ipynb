{
  "nbformat": 4,
  "nbformat_minor": 0,
  "metadata": {
    "colab": {
      "provenance": []
    },
    "kernelspec": {
      "name": "python3",
      "display_name": "Python 3"
    },
    "language_info": {
      "name": "python"
    }
  },
  "cells": [
    {
      "cell_type": "code",
      "execution_count": null,
      "metadata": {
        "id": "NNcipUjeUVci"
      },
      "outputs": [],
      "source": [
        "import math\n",
        "from scipy.stats import norm\n",
        "import numpy as np\n"
      ]
    },
    {
      "cell_type": "code",
      "source": [
        "import math\n",
        "from scipy.stats import norm\n",
        "import numpy as np\n",
        "import yfinance as yf\n",
        "\n",
        "def get_options_data(ticker, expiration_date):\n",
        "  \"\"\"\n",
        "  Retrieves options data for a given ticker and expiration date from Yahoo Finance.\n",
        "\n",
        "  Args:\n",
        "    ticker: The stock ticker symbol (e.g., \"AAPL\").\n",
        "    expiration_date: The expiration date of the options (e.g., \"2024-01-19\").\n",
        "\n",
        "  Returns:\n",
        "    A pandas DataFrame containing the options data, or None if an error occurs.\n",
        "  \"\"\"\n",
        "  try:\n",
        "    ticker_object = yf.Ticker(ticker)\n",
        "    options = ticker_object.option_chain(expiration_date)\n",
        "    calls = options.calls\n",
        "    puts = options.puts\n",
        "    return calls, puts  # Return both calls and puts dataframes\n",
        "\n",
        "  except Exception as e:\n",
        "    print(f\"An error occurred: {e}\")\n",
        "    return None\n",
        "\n",
        "# Example usage\n",
        "ticker_symbol = \"AAPL\"  # Replace with the desired ticker\n",
        "expiration = \"2024-12-06\"  # Replace with desired expiration date\n",
        "\n",
        "calls_df, puts_df = get_options_data(ticker_symbol, expiration)\n",
        "\n",
        "if calls_df is not None and puts_df is not None:\n",
        "    print(\"Calls Data:\")\n",
        "    print(calls_df.head())  # Print first few rows of calls data\n",
        "    print(\"\\nPuts Data:\")\n",
        "    print(puts_df.head())  # Print first few rows of puts data"
      ],
      "metadata": {
        "colab": {
          "base_uri": "https://localhost:8080/"
        },
        "id": "qchQvrpCUlrb",
        "outputId": "2a92b0df-db8e-48d6-8071-211aa56e1876"
      },
      "execution_count": 4,
      "outputs": [
        {
          "output_type": "stream",
          "name": "stdout",
          "text": [
            "Calls Data:\n",
            "        contractSymbol             lastTradeDate  strike  lastPrice  bid  ask  \\\n",
            "0  AAPL241206C00130000 2024-11-12 20:40:07+00:00   130.0      94.58  0.0  0.0   \n",
            "1  AAPL241206C00135000 2024-11-04 20:50:00+00:00   135.0      87.35  0.0  0.0   \n",
            "2  AAPL241206C00140000 2024-11-14 16:44:41+00:00   140.0      87.43  0.0  0.0   \n",
            "3  AAPL241206C00145000 2024-11-04 18:45:12+00:00   145.0      77.97  0.0  0.0   \n",
            "4  AAPL241206C00150000 2024-11-15 15:10:00+00:00   150.0      75.38  0.0  0.0   \n",
            "\n",
            "   change  percentChange  volume  openInterest  impliedVolatility  inTheMoney  \\\n",
            "0     0.0            0.0     NaN             1            0.00001        True   \n",
            "1     0.0            0.0     NaN             1            0.00001        True   \n",
            "2     0.0            0.0     1.0             5            0.00001        True   \n",
            "3     0.0            0.0     NaN            10            0.00001        True   \n",
            "4     0.0            0.0     1.0             2            0.00001        True   \n",
            "\n",
            "  contractSize currency  \n",
            "0      REGULAR      USD  \n",
            "1      REGULAR      USD  \n",
            "2      REGULAR      USD  \n",
            "3      REGULAR      USD  \n",
            "4      REGULAR      USD  \n",
            "\n",
            "Puts Data:\n",
            "        contractSymbol             lastTradeDate  strike  lastPrice  bid  ask  \\\n",
            "0  AAPL241206P00100000 2024-10-31 19:54:37+00:00   100.0       0.06  0.0  0.0   \n",
            "1  AAPL241206P00105000 2024-11-01 17:51:14+00:00   105.0       0.03  0.0  0.0   \n",
            "2  AAPL241206P00110000 2024-11-14 16:08:11+00:00   110.0       0.01  0.0  0.0   \n",
            "3  AAPL241206P00120000 2024-11-04 16:26:19+00:00   120.0       0.03  0.0  0.0   \n",
            "4  AAPL241206P00125000 2024-11-11 17:03:44+00:00   125.0       0.02  0.0  0.0   \n",
            "\n",
            "   change  percentChange  volume  openInterest  impliedVolatility  inTheMoney  \\\n",
            "0     0.0            0.0     NaN           3.0           0.500005       False   \n",
            "1     0.0            0.0     8.0           8.0           0.500005       False   \n",
            "2     0.0            0.0    50.0          81.0           0.500005       False   \n",
            "3     0.0            0.0     NaN          15.0           0.500005       False   \n",
            "4     0.0            0.0   372.0         374.0           0.500005       False   \n",
            "\n",
            "  contractSize currency  \n",
            "0      REGULAR      USD  \n",
            "1      REGULAR      USD  \n",
            "2      REGULAR      USD  \n",
            "3      REGULAR      USD  \n",
            "4      REGULAR      USD  \n"
          ]
        }
      ]
    },
    {
      "cell_type": "markdown",
      "source": [
        "#Binomial Option Pricing Model"
      ],
      "metadata": {
        "id": "q-vwHTNJUhIF"
      }
    },
    {
      "cell_type": "markdown",
      "source": [
        "The simplest method to price the options is to use a binomial option pricing model. This model uses the assumption of perfectly efficient markets. Under this assumption, the model can price the option at each point of a specified time frame.\n",
        "\n",
        "Under the binomial model, we consider that the price of the underlying asset will either go up or down in the period. Given the possible prices of the underlying asset and the strike price of an option, we can calculate the payoff of the option under these scenarios, then discount these payoffs and find the value of that option as of today."
      ],
      "metadata": {
        "id": "X9xPfX6yXbKX"
      }
    },
    {
      "cell_type": "code",
      "source": [
        "def binomial_option_pricing(S, K, T, r, u, d, n, option_type=\"call\"):\n",
        "    \"\"\"\n",
        "    Calculate the price of an option using the Binomial Option Pricing Model.\n",
        "\n",
        "    S: Initial stock price\n",
        "    K: Strike price\n",
        "    T: Time to expiration (in years)\n",
        "    r: Risk-free interest rate\n",
        "    u: Upward factor\n",
        "    d: Downward factor\n",
        "    n: Number of periods\n",
        "    option_type: 'call' or 'put'\n",
        "    \"\"\"\n",
        "    dt = T / n  # time step\n",
        "    q = (math.exp(r * dt) - d) / (u - d)  # risk-neutral probability\n",
        "    disc = math.exp(-r * T)  # discount factor\n",
        "\n",
        "    # Compute stock prices at maturity\n",
        "    stock_prices = [S * (u ** j) * (d ** (n - j)) for j in range(n + 1)]\n",
        "\n",
        "    # Option payoffs at maturity\n",
        "    if option_type == \"call\":\n",
        "        payoffs = [max(0, price - K) for price in stock_prices]\n",
        "    elif option_type == \"put\":\n",
        "        payoffs = [max(0, K - price) for price in stock_prices]\n",
        "\n",
        "    # Discount back to present value\n",
        "    for i in range(n):\n",
        "        payoffs = [(q * payoffs[j + 1] + (1 - q) * payoffs[j]) for j in range(len(payoffs) - 1)]\n",
        "\n",
        "    return payoffs[0]\n"
      ],
      "metadata": {
        "id": "PKN_byHcUg0S"
      },
      "execution_count": 6,
      "outputs": []
    },
    {
      "cell_type": "markdown",
      "source": [
        "#Black-Scholes Model"
      ],
      "metadata": {
        "id": "HofXL2aEU3rS"
      }
    },
    {
      "cell_type": "markdown",
      "source": [
        "The Black-Scholes model was developed mainly for pricing European options on stocks. The model operates under certain assumptions regarding the distribution of the stock price and the economic environment. The assumptions about the stock price distribution include:\n",
        "\n",
        "Continuously compounded returns on the stock are normally distributed and independent over time.\n",
        "The volatility of continuously compounded returns is known and constant.\n",
        "Future dividends are known (as a dollar amount or as a fixed dividend yield).\n",
        "The assumptions about the economic environment are:\n",
        "\n",
        "The risk-free rate is known and constant.\n",
        "There are no transaction costs or taxes.\n",
        "It is possible to short-sell with no cost and to borrow at the risk-free rate."
      ],
      "metadata": {
        "id": "9q7Un2yoXh6P"
      }
    },
    {
      "cell_type": "code",
      "source": [
        "def black_scholes(S, K, T, r, sigma, option_type=\"call\"):\n",
        "    \"\"\"\n",
        "    Calculate the price of a European option using the Black-Scholes Model.\n",
        "\n",
        "    S: Current stock price\n",
        "    K: Strike price\n",
        "    T: Time to maturity (in years)\n",
        "    r: Risk-free interest rate\n",
        "    sigma: Volatility of the stock\n",
        "    option_type: 'call' or 'put'\n",
        "    \"\"\"\n",
        "    d1 = (math.log(S / K) + (r + 0.5 * sigma ** 2) * T) / (sigma * math.sqrt(T))\n",
        "    d2 = d1 - sigma * math.sqrt(T)\n",
        "\n",
        "    if option_type == \"call\":\n",
        "        price = S * norm.cdf(d1) - K * math.exp(-r * T) * norm.cdf(d2)\n",
        "    elif option_type == \"put\":\n",
        "        price = K * math.exp(-r * T) * norm.cdf(-d2) - S * norm.cdf(-d1)\n",
        "    return price\n"
      ],
      "metadata": {
        "id": "q6WW9uU3U2fP"
      },
      "execution_count": 7,
      "outputs": []
    },
    {
      "cell_type": "markdown",
      "source": [
        "#Monte-Carlo Simulation"
      ],
      "metadata": {
        "id": "qoo9xx40V1iY"
      }
    },
    {
      "cell_type": "markdown",
      "source": [
        "Monte-Carlo simulation is another option pricing model we will consider. The Monte-Carlo simulation is a more sophisticated method to value options. In this method, we simulate the possible future stock prices and then use them to find the discounted expected option payoffs."
      ],
      "metadata": {
        "id": "xAOdxF97XpAg"
      }
    },
    {
      "cell_type": "code",
      "source": [
        "def monte_carlo_simulation(S, K, T, r, sigma, num_simulations=10000, option_type=\"call\"):\n",
        "    \"\"\"\n",
        "    Calculate the price of an option using Monte Carlo simulation.\n",
        "\n",
        "    S: Current stock price\n",
        "    K: Strike price\n",
        "    T: Time to expiration (in years)\n",
        "    r: Risk-free interest rate\n",
        "    sigma: Volatility\n",
        "    num_simulations: Number of simulations\n",
        "    option_type: 'call' or 'put'\n",
        "    \"\"\"\n",
        "    np.random.seed(42)\n",
        "    payoff_sum = 0\n",
        "    for _ in range(num_simulations):\n",
        "        z = np.random.normal(0, 1)  # standard normal random variable\n",
        "        ST = S * math.exp((r - 0.5 * sigma ** 2) * T + sigma * math.sqrt(T) * z)\n",
        "        if option_type == \"call\":\n",
        "            payoff = max(0, ST - K)\n",
        "        elif option_type == \"put\":\n",
        "            payoff = max(0, K - ST)\n",
        "        payoff_sum += payoff\n",
        "\n",
        "    return math.exp(-r * T) * (payoff_sum / num_simulations)\n"
      ],
      "metadata": {
        "id": "2oe4KsgvV5_y"
      },
      "execution_count": 8,
      "outputs": []
    },
    {
      "cell_type": "code",
      "source": [
        "# Inputs\n",
        "S = 100  # Current stock price\n",
        "K = 110  # Strike price\n",
        "T = 1    # Time to expiration (1 year)\n",
        "r = 0.05  # Risk-free rate (5%)\n",
        "sigma = 0.2  # Volatility (20%)\n",
        "u = 1.1  # Upward factor\n",
        "d = 0.9  # Downward factor\n",
        "n = 2  # Number of periods\n",
        "\n",
        "# Binomial Option Pricing\n",
        "binomial_price = binomial_option_pricing(S, K, T, r, u, d, n, option_type=\"call\")\n",
        "print(\"Binomial Option Price:\", binomial_price)\n",
        "\n",
        "# Black-Scholes Pricing\n",
        "bs_price = black_scholes(S, K, T, r, sigma, option_type=\"call\")\n",
        "print(\"Black-Scholes Option Price:\", bs_price)\n",
        "\n",
        "# Monte-Carlo Simulation\n",
        "mc_price = monte_carlo_simulation(S, K, T, r, sigma, num_simulations=100000, option_type=\"call\")\n",
        "print(\"Monte-Carlo Option Price:\", mc_price)\n"
      ],
      "metadata": {
        "colab": {
          "base_uri": "https://localhost:8080/"
        },
        "id": "jW6eUKUnWKBY",
        "outputId": "195b3451-2b94-4f75-b7e2-93da37367183"
      },
      "execution_count": 9,
      "outputs": [
        {
          "output_type": "stream",
          "name": "stdout",
          "text": [
            "Binomial Option Price: 4.318566843814337\n",
            "Black-Scholes Option Price: 6.040088129724239\n",
            "Monte-Carlo Option Price: 6.060288324860743\n"
          ]
        }
      ]
    },
    {
      "cell_type": "markdown",
      "source": [
        "**Conclusions:**\n",
        "\n",
        "The three models (Binomial, Black-Scholes, and Monte Carlo) provide different estimates for the option price.\n",
        "The differences arise from their underlying assumptions and methodologies.\n",
        "The Binomial model offers a discrete-time approach, the Black-Scholes model relies on continuous-time assumptions and normally distributed returns and the Monte-Carlo simulation utilizes random sampling to estimate price.\n",
        "In practice, the choice of the appropriate model depends on the specific characteristics of the underlying asset and the option contract, and factors such as transaction costs and market liquidity that are often ignored by these models.\n",
        "The Monte Carlo simulation typically provides a more accurate estimate, particularly when the underlying asset's price dynamics are complex, but it requires more computational resources."
      ],
      "metadata": {
        "id": "6VETQLSBX8ZH"
      }
    },
    {
      "cell_type": "code",
      "source": [],
      "metadata": {
        "id": "5TK7mGM0X_X-"
      },
      "execution_count": null,
      "outputs": []
    }
  ]
}